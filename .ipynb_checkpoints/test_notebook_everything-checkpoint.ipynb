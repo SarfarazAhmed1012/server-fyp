{
 "cells": [
  {
   "cell_type": "code",
   "execution_count": null,
   "id": "a217b4a6",
   "metadata": {},
   "outputs": [],
   "source": [
    "# audio boosting work\n",
    "# Import the package and create an audio effects chain function.\n",
    "\n",
    "from pysndfx import AudioEffectsChain\n",
    "from librosa import load\n",
    "\n",
    "fx = (\n",
    "    AudioEffectsChain()\n",
    "    #     .highshelf()\n",
    "    #     .reverb()\n",
    "    #     .phaser()\n",
    "    #     .delay()\n",
    "    #     .lowshelf()\n",
    "\n",
    "\n",
    "    #     .normalize()\n",
    "    .limiter(6)\n",
    "    #     .normalize()\n",
    ")\n",
    "\n",
    "infile = r'E:/toil/FYP/server/tmp/denoised.wav'\n",
    "# infile = 'denoised_from_dataset.wav'\n",
    "outfile = r'E:/toil/FYP/server/tmp/denoised_boosted.wav'\n",
    "# # Apply phaser and reverb directly to an audio file.\n",
    "# fx(infile, outfile)\n",
    "# Or, apply the effects directly to a ndarray.\n",
    "y, sr = load(infile, sr=None)\n",
    "y = fx(y)\n",
    "# Apply the effects and return the results as a ndarray.\n",
    "y = fx(infile)\n",
    "# Apply the effects to a ndarray but store the resulting audio to disk.\n",
    "fx(y, outfile)\n"
   ]
  }
 ],
 "metadata": {
  "kernelspec": {
   "display_name": "Python 3 (ipykernel)",
   "language": "python",
   "name": "python3"
  },
  "language_info": {
   "codemirror_mode": {
    "name": "ipython",
    "version": 3
   },
   "file_extension": ".py",
   "mimetype": "text/x-python",
   "name": "python",
   "nbconvert_exporter": "python",
   "pygments_lexer": "ipython3",
   "version": "3.10.6"
  }
 },
 "nbformat": 4,
 "nbformat_minor": 5
}
